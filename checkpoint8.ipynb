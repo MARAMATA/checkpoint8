{
 "cells": [
  {
   "cell_type": "markdown",
   "id": "5947bcfa",
   "metadata": {},
   "source": [
    "# 1. Écrivez un programme Python pour lire un fichier texte entier "
   ]
  },
  {
   "cell_type": "code",
   "execution_count": null,
   "id": "ee2a34c6",
   "metadata": {},
   "outputs": [],
   "source": [
    "with open('fichier.txt', 'r') as f:\n",
    "    contenu = f.read()\n",
    "    print(contenu)"
   ]
  },
  {
   "cell_type": "markdown",
   "id": "fe927d13",
   "metadata": {},
   "source": [
    "# 2. Écrivez un programme Python pour lire les n premières lignes d'un fichier."
   ]
  },
  {
   "cell_type": "code",
   "execution_count": null,
   "id": "0305c2e2",
   "metadata": {},
   "outputs": [],
   "source": [
    "with open('fichier.txt', 'r') as f:\n",
    "    n = 10  # nombre de lignes à lire\n",
    "    for i in range(n):\n",
    "        ligne = f.readline()\n",
    "        print(ligne)"
   ]
  },
  {
   "cell_type": "markdown",
   "id": "742e33e9",
   "metadata": {},
   "source": [
    "# 3. Écrivez un programme Python pour lire les n dernières lignes d'un fichier."
   ]
  },
  {
   "cell_type": "code",
   "execution_count": null,
   "id": "4dfc5dcf",
   "metadata": {},
   "outputs": [],
   "source": [
    "with open('fichier.txt', 'r') as f:\n",
    "    n = 10  # nombre de lignes à lire\n",
    "    lignes = f.readlines()[-n:]\n",
    "    for ligne in lignes:\n",
    "        print(ligne)"
   ]
  },
  {
   "cell_type": "markdown",
   "id": "3d0582d5",
   "metadata": {},
   "source": [
    "# 4. Écrivez un programme Python qui prend un fichier texte en entrée et renvoie le nombre de mots d'un fichier texte donné."
   ]
  },
  {
   "cell_type": "code",
   "execution_count": null,
   "id": "b4a6e95b",
   "metadata": {},
   "outputs": [],
   "source": [
    "with open('fichier.txt', 'r') as f:\n",
    "    nb_mots = 0\n",
    "    for ligne in f:\n",
    "        mots = ligne.split()\n",
    "        for mot in mots:\n",
    "            nb_mots += 1\n",
    "    print(\"Le fichier contient\", nb_mots, \"mots.\")"
   ]
  },
  {
   "cell_type": "markdown",
   "id": "c70890cb",
   "metadata": {},
   "source": [
    "# 5. (Bonus) Écrivez un programme Python pour lire les n dernières lignes d'un fichier."
   ]
  },
  {
   "cell_type": "code",
   "execution_count": null,
   "id": "6a4839ed",
   "metadata": {},
   "outputs": [],
   "source": [
    "with open('fichier.txt', 'r') as f:\n",
    "    n = 10  # nombre de lignes à lire\n",
    "    lignes = f.readlines()[-n:]\n",
    "    for ligne in lignes:\n",
    "        print(ligne)"
   ]
  }
 ],
 "metadata": {
  "kernelspec": {
   "display_name": "Python 3 (ipykernel)",
   "language": "python",
   "name": "python3"
  },
  "language_info": {
   "codemirror_mode": {
    "name": "ipython",
    "version": 3
   },
   "file_extension": ".py",
   "mimetype": "text/x-python",
   "name": "python",
   "nbconvert_exporter": "python",
   "pygments_lexer": "ipython3",
   "version": "3.9.13"
  }
 },
 "nbformat": 4,
 "nbformat_minor": 5
}
